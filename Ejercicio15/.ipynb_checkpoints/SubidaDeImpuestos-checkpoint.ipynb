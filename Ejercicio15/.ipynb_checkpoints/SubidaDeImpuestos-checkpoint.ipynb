{
 "cells": [
  {
   "cell_type": "code",
   "execution_count": 4,
   "metadata": {},
   "outputs": [
    {
     "name": "stdout",
     "output_type": "stream",
     "text": [
      "<SparkContext master=local[*] appName=PySparkShell>\n"
     ]
    }
   ],
   "source": [
    "from pyspark import SparkContext\n",
    "print(sc)"
   ]
  },
  {
   "cell_type": "code",
   "execution_count": 6,
   "metadata": {},
   "outputs": [
    {
     "data": {
      "text/plain": [
       "[('España', 21.42),\n",
       " ('Eslovaquia', 20.4),\n",
       " ('Chipre', 19.38),\n",
       " ('Malta', 18.36),\n",
       " ('Dinamarca', 25.5)]"
      ]
     },
     "execution_count": 6,
     "metadata": {},
     "output_type": "execute_result"
    }
   ],
   "source": [
    "lista = [(\"España\", 21), (\"Eslovaquia\", 20), (\"Chipre\", 19), (\"Malta\", 18), (\"Dinamarca\", 25)]\n",
    "sc.parallelize(lista).mapValues(lambda x: (x*2/100)+x).collect()"
   ]
  },
  {
   "cell_type": "code",
   "execution_count": null,
   "metadata": {},
   "outputs": [],
   "source": []
  }
 ],
 "metadata": {
  "kernelspec": {
   "display_name": "Python 3",
   "language": "python",
   "name": "python3"
  }
 },
 "nbformat": 4,
 "nbformat_minor": 2
}
