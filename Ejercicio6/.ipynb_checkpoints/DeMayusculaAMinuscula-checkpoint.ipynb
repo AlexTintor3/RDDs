{
 "cells": [
  {
   "cell_type": "code",
   "execution_count": 2,
   "metadata": {},
   "outputs": [
    {
     "name": "stdout",
     "output_type": "stream",
     "text": [
      "<SparkContext master=local[*] appName=PySparkShell>\n"
     ]
    }
   ],
   "source": [
    "from pyspark import SparkContext\n",
    "print(sc)"
   ]
  },
  {
   "cell_type": "code",
   "execution_count": 3,
   "metadata": {},
   "outputs": [
    {
     "data": {
      "text/plain": [
       "['el',\n",
       " 'hombre',\n",
       " 'adecuado',\n",
       " 'en',\n",
       " 'el',\n",
       " 'sitio',\n",
       " 'equivocado',\n",
       " 'puede',\n",
       " 'cambiar',\n",
       " 'el',\n",
       " 'rumbo',\n",
       " 'del',\n",
       " 'mundo']"
      ]
     },
     "execution_count": 3,
     "metadata": {},
     "output_type": "execute_result"
    }
   ],
   "source": [
    "mayusculas = [\"EL\", \"HOMBRE\", \"ADECUADO\", \"EN\", \"EL\", \"SITIO\", \"EQUIVOCADO\", \"PUEDE\", \"CAMBIAR\", \"EL\", \"RUMBO\", \"DEL\", \"MUNDO\"]\n",
    "sc.parallelize(mayusculas).map(lambda x: x.lower()).collect()"
   ]
  },
  {
   "cell_type": "code",
   "execution_count": null,
   "metadata": {},
   "outputs": [],
   "source": []
  }
 ],
 "metadata": {
  "kernelspec": {
   "display_name": "Python 3",
   "language": "python",
   "name": "python3"
  },
  "language_info": {
   "codemirror_mode": {
    "name": "ipython",
    "version": 3
   },
   "file_extension": ".py",
   "mimetype": "text/x-python",
   "name": "python",
   "nbconvert_exporter": "python",
   "pygments_lexer": "ipython3",
   "version": "3.7.3"
  }
 },
 "nbformat": 4,
 "nbformat_minor": 2
}
